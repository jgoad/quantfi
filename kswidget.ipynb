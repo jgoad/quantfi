{
 "metadata": {
  "name": "",
  "signature": "sha256:018dd9be44ccb82b84a0f2727954fc62206bd8efe562b2dd85ff1b4ce8a6acac"
 },
 "nbformat": 3,
 "nbformat_minor": 0,
 "worksheets": [
  {
   "cells": [
    {
     "cell_type": "code",
     "collapsed": false,
     "input": [
      "import numpy as np\n",
      "import pandas as pd\n",
      "import quantquotedaily as qqd\n",
      "from scipy.stats import ks_2samp\n",
      "from datetime import datetime, timedelta"
     ],
     "language": "python",
     "metadata": {},
     "outputs": [],
     "prompt_number": 1
    },
    {
     "cell_type": "code",
     "collapsed": false,
     "input": [
      "import matplotlib.pyplot as plt\n",
      "from matplotlib.dates import YearLocator, MonthLocator, DateFormatter\n",
      "from IPython.html.widgets import interact\n",
      "from IPython.display import display\n",
      "%matplotlib inline"
     ],
     "language": "python",
     "metadata": {},
     "outputs": [],
     "prompt_number": 2
    },
    {
     "cell_type": "code",
     "collapsed": false,
     "input": [
      "x = np.random.normal(0,1,5000)\n",
      "y = np.random.normal(0,1,5000)\n",
      "z = np.random.normal(0.1,0.9,5000)\n",
      "\n",
      "print ks_2samp(x, y)\n",
      "print ks_2samp(x, z)"
     ],
     "language": "python",
     "metadata": {},
     "outputs": [
      {
       "output_type": "stream",
       "stream": "stdout",
       "text": [
        "(0.014799999999999924, 0.6409695856588481)\n",
        "(0.061800000000000022, 9.2697529404471817e-09)\n"
       ]
      }
     ],
     "prompt_number": 3
    },
    {
     "cell_type": "code",
     "collapsed": false,
     "input": [
      "def add_cursor(fig, ax):\n",
      "    plt.close(fig)\n",
      "\n",
      "    vline = ax.axvline(1, color='k')\n",
      "    hline = ax.axhline(0.5, color='k')\n",
      "\n",
      "    def set_cursor(x, y):\n",
      "        vline.set_xdata((x, x))\n",
      "        hline.set_ydata((y, y))\n",
      "        display(fig)\n",
      "\n",
      "    interact(set_cursor, x=ax.get_xlim(), y=ax.get_ylim())"
     ],
     "language": "python",
     "metadata": {},
     "outputs": [],
     "prompt_number": 4
    },
    {
     "cell_type": "code",
     "collapsed": false,
     "input": [
      "fig, ax = plt.subplots()\n",
      "ax.plot([3,1,2,4,0,5,3,2,0,2,4])\n",
      "add_cursor(fig, ax)"
     ],
     "language": "python",
     "metadata": {},
     "outputs": [
      {
       "metadata": {},
       "output_type": "display_data",
       "png": "[encoded data removed]",
       "text": [
        "<matplotlib.figure.Figure at 0x10a793c90>"
       ]
      }
     ],
     "prompt_number": 5
    },
    {
     "cell_type": "code",
     "collapsed": false,
     "input": [
      "date_range='19001225-19010101'\n",
      "date = datetime.strptime(date_range[:8], '%Y%m%d')\n",
      "formed_date = date.strftime('%Y%m%d')\n",
      "while formed_date!=date_range[9:]: \n",
      "    date += timedelta(days=1)\n",
      "    formed_date = date.strftime('%Y%m%d')\n",
      "    print formed_date"
     ],
     "language": "python",
     "metadata": {},
     "outputs": [
      {
       "output_type": "stream",
       "stream": "stdout",
       "text": [
        "19001226\n",
        "19001227\n",
        "19001228\n",
        "19001229\n",
        "19001230\n",
        "19001231\n",
        "19010101\n"
       ]
      }
     ],
     "prompt_number": 6
    },
    {
     "cell_type": "code",
     "collapsed": false,
     "input": [
      "aapl_01to02,empty_list = qqd.get_daily_data('aapl','19990105')\n",
      "index = [int(i.strftime('%Y%m%d%H%M')) for i in aapl_01to02.index]\n",
      "returns = qqd.calc_returns(aapl_01to02)\n",
      "aapl_01to02[:5]"
     ],
     "language": "python",
     "metadata": {},
     "outputs": [
      {
       "html": [
        "<div style=\"max-height:1000px;max-width:1500px;overflow:auto;\">\n",
        "<table border=\"1\" class=\"dataframe\">\n",
        "  <thead>\n",
        "    <tr style=\"text-align: right;\">\n",
        "      <th></th>\n",
        "      <th>open</th>\n",
        "      <th>high</th>\n",
        "      <th>low</th>\n",
        "      <th>close</th>\n",
        "      <th>volume</th>\n",
        "      <th>splits</th>\n",
        "      <th>earnings</th>\n",
        "      <th>dividends</th>\n",
        "      <th>returns</th>\n",
        "      <th>log returns</th>\n",
        "    </tr>\n",
        "    <tr>\n",
        "      <th>datetime</th>\n",
        "      <th></th>\n",
        "      <th></th>\n",
        "      <th></th>\n",
        "      <th></th>\n",
        "      <th></th>\n",
        "      <th></th>\n",
        "      <th></th>\n",
        "      <th></th>\n",
        "      <th></th>\n",
        "      <th></th>\n",
        "    </tr>\n",
        "  </thead>\n",
        "  <tbody>\n",
        "    <tr>\n",
        "      <th>1999-01-05 08:09:00</th>\n",
        "      <td> 1.44669</td>\n",
        "      <td> 1.44669</td>\n",
        "      <td> 1.44669</td>\n",
        "      <td> 1.44669</td>\n",
        "      <td> 146472.0</td>\n",
        "      <td> 28</td>\n",
        "      <td> 0</td>\n",
        "      <td> 0</td>\n",
        "      <td>      NaN</td>\n",
        "      <td>      NaN</td>\n",
        "    </tr>\n",
        "    <tr>\n",
        "      <th>1999-01-05 08:20:00</th>\n",
        "      <td> 1.43372</td>\n",
        "      <td> 1.43372</td>\n",
        "      <td> 1.43372</td>\n",
        "      <td> 1.43372</td>\n",
        "      <td> 146472.0</td>\n",
        "      <td> 28</td>\n",
        "      <td> 0</td>\n",
        "      <td> 0</td>\n",
        "      <td>-0.008965</td>\n",
        "      <td>-0.009006</td>\n",
        "    </tr>\n",
        "    <tr>\n",
        "      <th>1999-01-05 08:21:00</th>\n",
        "      <td> 1.43372</td>\n",
        "      <td> 1.43372</td>\n",
        "      <td> 1.43372</td>\n",
        "      <td> 1.43372</td>\n",
        "      <td> 146472.0</td>\n",
        "      <td> 28</td>\n",
        "      <td> 0</td>\n",
        "      <td> 0</td>\n",
        "      <td> 0.000000</td>\n",
        "      <td> 0.000000</td>\n",
        "    </tr>\n",
        "    <tr>\n",
        "      <th>1999-01-05 08:27:00</th>\n",
        "      <td> 1.43372</td>\n",
        "      <td> 1.43372</td>\n",
        "      <td> 1.43372</td>\n",
        "      <td> 1.43372</td>\n",
        "      <td>  29294.4</td>\n",
        "      <td> 28</td>\n",
        "      <td> 0</td>\n",
        "      <td> 0</td>\n",
        "      <td> 0.000000</td>\n",
        "      <td> 0.000000</td>\n",
        "    </tr>\n",
        "    <tr>\n",
        "      <th>1999-01-05 08:32:00</th>\n",
        "      <td> 1.44226</td>\n",
        "      <td> 1.44226</td>\n",
        "      <td> 1.44226</td>\n",
        "      <td> 1.44226</td>\n",
        "      <td>  14647.2</td>\n",
        "      <td> 28</td>\n",
        "      <td> 0</td>\n",
        "      <td> 0</td>\n",
        "      <td> 0.005957</td>\n",
        "      <td> 0.005939</td>\n",
        "    </tr>\n",
        "  </tbody>\n",
        "</table>\n",
        "<p>5 rows \u00d7 10 columns</p>\n",
        "</div>"
       ],
       "metadata": {},
       "output_type": "pyout",
       "prompt_number": 7,
       "text": [
        "                        open     high      low    close    volume  splits  \\\n",
        "datetime                                                                    \n",
        "1999-01-05 08:09:00  1.44669  1.44669  1.44669  1.44669  146472.0      28   \n",
        "1999-01-05 08:20:00  1.43372  1.43372  1.43372  1.43372  146472.0      28   \n",
        "1999-01-05 08:21:00  1.43372  1.43372  1.43372  1.43372  146472.0      28   \n",
        "1999-01-05 08:27:00  1.43372  1.43372  1.43372  1.43372   29294.4      28   \n",
        "1999-01-05 08:32:00  1.44226  1.44226  1.44226  1.44226   14647.2      28   \n",
        "\n",
        "                     earnings  dividends   returns  log returns  \n",
        "datetime                                                         \n",
        "1999-01-05 08:09:00         0          0       NaN          NaN  \n",
        "1999-01-05 08:20:00         0          0 -0.008965    -0.009006  \n",
        "1999-01-05 08:21:00         0          0  0.000000     0.000000  \n",
        "1999-01-05 08:27:00         0          0  0.000000     0.000000  \n",
        "1999-01-05 08:32:00         0          0  0.005957     0.005939  \n",
        "\n",
        "[5 rows x 10 columns]"
       ]
      }
     ],
     "prompt_number": 7
    },
    {
     "cell_type": "code",
     "collapsed": false,
     "input": [
      "plt.plot(index,aapl_01to02['OPEN'])"
     ],
     "language": "python",
     "metadata": {},
     "outputs": [
      {
       "metadata": {},
       "output_type": "pyout",
       "prompt_number": 59,
       "text": [
        "[<matplotlib.lines.Line2D at 0x10d327a90>]"
       ]
      },
      {
       "metadata": {},
       "output_type": "display_data",
       "png": "[encoded data removed]",
       "text": [
        "<matplotlib.figure.Figure at 0x10d28cf50>"
       ]
      }
     ],
     "prompt_number": 59
    },
    {
     "cell_type": "code",
     "collapsed": false,
     "input": [
      "print empty_list"
     ],
     "language": "python",
     "metadata": {},
     "outputs": [
      {
       "output_type": "stream",
       "stream": "stdout",
       "text": [
        "[]\n"
       ]
      }
     ],
     "prompt_number": 47
    },
    {
     "cell_type": "code",
     "collapsed": false,
     "input": [],
     "language": "python",
     "metadata": {},
     "outputs": []
    }
   ],
   "metadata": {}
  }
 ]
}