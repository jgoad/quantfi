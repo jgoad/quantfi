{
 "metadata": {
  "kernelspec": {
   "codemirror_mode": {
    "name": "ipython",
    "version": 2
   },
   "display_name": "IPython (Python 2)",
   "language": "python",
   "name": "python2"
  },
  "name": "",
  "signature": "sha256:9826685e85f39b2fe9be8ed57e006ae05d549cc5e138bb204ac454bdc57b39d0"
 },
 "nbformat": 3,
 "nbformat_minor": 0,
 "worksheets": [
  {
   "cells": [
    {
     "cell_type": "code",
     "collapsed": false,
     "input": [
      "%matplotlib inline\n",
      "import numpy as np\n",
      "import matplotlib.pyplot as plt"
     ],
     "language": "python",
     "metadata": {},
     "outputs": [],
     "prompt_number": 1
    },
    {
     "cell_type": "code",
     "collapsed": false,
     "input": [
      "plt.style.use('ggplot')"
     ],
     "language": "python",
     "metadata": {},
     "outputs": [
      {
       "ename": "AttributeError",
       "evalue": "'module' object has no attribute 'style'",
       "output_type": "pyerr",
       "traceback": [
        "\u001b[0;31m---------------------------------------------------------------------------\u001b[0m",
        "\u001b[0;31mAttributeError\u001b[0m                            Traceback (most recent call last)",
        "\u001b[0;32m<ipython-input-2-7dbfd78d8fbc>\u001b[0m in \u001b[0;36m<module>\u001b[0;34m()\u001b[0m\n\u001b[0;32m----> 1\u001b[0;31m \u001b[0mplt\u001b[0m\u001b[0;34m.\u001b[0m\u001b[0mstyle\u001b[0m\u001b[0;34m.\u001b[0m\u001b[0muse\u001b[0m\u001b[0;34m(\u001b[0m\u001b[0;34m'ggplot'\u001b[0m\u001b[0;34m)\u001b[0m\u001b[0;34m\u001b[0m\u001b[0m\n\u001b[0m",
        "\u001b[0;31mAttributeError\u001b[0m: 'module' object has no attribute 'style'"
       ]
      }
     ],
     "prompt_number": 2
    },
    {
     "cell_type": "code",
     "collapsed": false,
     "input": [
      "from scipy import stats"
     ],
     "language": "python",
     "metadata": {},
     "outputs": [],
     "prompt_number": 4
    },
    {
     "cell_type": "code",
     "collapsed": false,
     "input": [
      "from IPython.html.widgets import interact, fixed"
     ],
     "language": "python",
     "metadata": {},
     "outputs": [],
     "prompt_number": 5
    },
    {
     "cell_type": "heading",
     "level": 2,
     "metadata": {},
     "source": [
      "Wiener process"
     ]
    },
    {
     "cell_type": "code",
     "collapsed": false,
     "input": [
      "def wiener(maxt, n):\n",
      "    \"\"\"Return one realization of a Wiener process with n steps and a max time of t.\"\"\"\n",
      "    t = np.linspace(0.0,maxt,n)\n",
      "    h = t[1]-t[0]\n",
      "    Z = np.random.normal(0.0,1.0,n-1)\n",
      "    dW = np.sqrt(h)*Z\n",
      "    W = np.zeros(n)\n",
      "    W[1:] = dW.cumsum()\n",
      "    return t, W"
     ],
     "language": "python",
     "metadata": {},
     "outputs": [],
     "prompt_number": 6
    },
    {
     "cell_type": "code",
     "collapsed": false,
     "input": [
      "maxt, n = 1.0, 5000\n",
      "t, W = wiener(maxt, n)\n",
      "assert len(t) == n and len(W) == n\n",
      "assert W[0] == t[0] == 0.0"
     ],
     "language": "python",
     "metadata": {},
     "outputs": [],
     "prompt_number": 7
    },
    {
     "cell_type": "code",
     "collapsed": false,
     "input": [
      "dW = np.diff(W)"
     ],
     "language": "python",
     "metadata": {},
     "outputs": [],
     "prompt_number": 8
    },
    {
     "cell_type": "code",
     "collapsed": false,
     "input": [
      "print dW.var(), dW.mean()"
     ],
     "language": "python",
     "metadata": {},
     "outputs": [
      {
       "output_type": "stream",
       "stream": "stdout",
       "text": [
        "0.000204006147824 -0.000300633126124\n"
       ]
      }
     ],
     "prompt_number": 9
    },
    {
     "cell_type": "code",
     "collapsed": false,
     "input": [
      "plt.hist(dW, bins=30);"
     ],
     "language": "python",
     "metadata": {},
     "outputs": [
      {
       "metadata": {},
       "output_type": "display_data",
       "png": "[encoded data removed]",
       "text": [
        "<matplotlib.figure.Figure at 0x109ba8210>"
       ]
      }
     ],
     "prompt_number": 10
    },
    {
     "cell_type": "code",
     "collapsed": false,
     "input": [
      "t[1]-t[0]"
     ],
     "language": "python",
     "metadata": {},
     "outputs": [
      {
       "metadata": {},
       "output_type": "pyout",
       "prompt_number": 11,
       "text": [
        "0.00020004000800160032"
       ]
      }
     ],
     "prompt_number": 11
    },
    {
     "cell_type": "code",
     "collapsed": false,
     "input": [
      "def plot_wiener(n):\n",
      "    t, W = wiener(1.0,n)\n",
      "    plt.plot(t, W)"
     ],
     "language": "python",
     "metadata": {},
     "outputs": [],
     "prompt_number": 12
    },
    {
     "cell_type": "code",
     "collapsed": false,
     "input": [
      "interact(plot_wiener, n=(50,500,50));"
     ],
     "language": "python",
     "metadata": {},
     "outputs": [
      {
       "metadata": {},
       "output_type": "display_data",
       "png": "[encoded data removed]",
       "text": [
        "<matplotlib.figure.Figure at 0x109bcd950>"
       ]
      }
     ],
     "prompt_number": 13
    },
    {
     "cell_type": "heading",
     "level": 2,
     "metadata": {},
     "source": [
      "General Ito process"
     ]
    },
    {
     "cell_type": "code",
     "collapsed": false,
     "input": [
      "def mu_const(X=None, t=None, params=None):\n",
      "    return params['mu']\n",
      "\n",
      "def sigma_const(X=None, t=None, params=None):\n",
      "    return params['sigma']"
     ],
     "language": "python",
     "metadata": {},
     "outputs": [],
     "prompt_number": 14
    },
    {
     "cell_type": "code",
     "collapsed": false,
     "input": [
      "def solve_sde(mu, sigma, t_vec, W_vec, X0, params=None):\n",
      "    dW_vec = np.diff(W_vec)\n",
      "    X_vec = np.zeros_like(W_vec)\n",
      "    X_vec[0] = X0\n",
      "    dt = t_vec[1]-t_vec[0]\n",
      "    N = len(X_vec)\n",
      "    for i in range(0,N-1):\n",
      "        # X(t) is known (i-1), find at X(t+dt) (i)\n",
      "        t = t_vec[i]\n",
      "        X = X_vec[i]\n",
      "        dW = dW_vec[i]\n",
      "        dX = mu(X=X, t=t, params=params)*X*dt + sigma(X=X, t=t, params=params)*X*dW\n",
      "        X_vec[i+1] = X+dX\n",
      "    return t_vec, X_vec"
     ],
     "language": "python",
     "metadata": {},
     "outputs": [],
     "prompt_number": 15
    },
    {
     "cell_type": "heading",
     "level": 2,
     "metadata": {},
     "source": [
      "Geometric Brownian motion"
     ]
    },
    {
     "cell_type": "code",
     "collapsed": false,
     "input": [
      "def exact_geo_brownian(t_vec, W_vec, X0, params):\n",
      "    mu = params['mu']\n",
      "    sigma = params['sigma']\n",
      "    X_vec = X0*np.exp((mu-0.5*sigma**2)*t_vec+sigma*W_vec)\n",
      "    return t_vec, X_vec\n",
      "\n",
      "def numerical_geo_brownian(t_vec, W_vec, X0, params):\n",
      "    t_vec, X_vec = solve_sde(mu_const, sigma_const, t_vec, W_vec, X0, params)\n",
      "    return t_vec, X_vec"
     ],
     "language": "python",
     "metadata": {},
     "outputs": [],
     "prompt_number": 16
    },
    {
     "cell_type": "code",
     "collapsed": false,
     "input": [
      "t, W = wiener(1.0, 100)"
     ],
     "language": "python",
     "metadata": {},
     "outputs": [],
     "prompt_number": 17
    },
    {
     "cell_type": "code",
     "collapsed": false,
     "input": [
      "t, X1 = numerical_geo_brownian(t, W, 1.0, dict(mu=0.5, sigma=0.5))"
     ],
     "language": "python",
     "metadata": {},
     "outputs": [],
     "prompt_number": 18
    },
    {
     "cell_type": "code",
     "collapsed": false,
     "input": [
      "t, X2 = exact_geo_brownian(t, W, 1.0, dict(mu=0.5, sigma=0.5))"
     ],
     "language": "python",
     "metadata": {},
     "outputs": [],
     "prompt_number": 19
    },
    {
     "cell_type": "code",
     "collapsed": false,
     "input": [
      "plt.plot(t, X1)\n",
      "plt.plot(t, X2)"
     ],
     "language": "python",
     "metadata": {},
     "outputs": [
      {
       "metadata": {},
       "output_type": "pyout",
       "prompt_number": 20,
       "text": [
        "[<matplotlib.lines.Line2D at 0x109c03290>]"
       ]
      },
      {
       "metadata": {},
       "output_type": "display_data",
       "png": "[encoded data removed]",
       "text": [
        "<matplotlib.figure.Figure at 0x109c03ed0>"
       ]
      }
     ],
     "prompt_number": 20
    },
    {
     "cell_type": "code",
     "collapsed": false,
     "input": [
      "def plot_brownian_convergence(maxt, n, mu, sigma):\n",
      "    t_vec, W_vec = wiener(maxt, n)\n",
      "    params = dict(mu=mu, sigma=sigma)\n",
      "    t_vec, X1 = exact_geo_brownian(t_vec, W_vec, 1.0, params)\n",
      "    t_vec, X2 = numerical_geo_brownian(t_vec, W_vec, 1.0, params)\n",
      "    plt.plot(t_vec, X1)\n",
      "    plt.plot(t_vec, X2)"
     ],
     "language": "python",
     "metadata": {},
     "outputs": [],
     "prompt_number": 21
    },
    {
     "cell_type": "code",
     "collapsed": false,
     "input": [
      "interact(plot_brownian_convergence, maxt=fixed(1.0), n=(50,750,50),\n",
      "         mu=fixed(0.5), sigma=fixed(0.5));"
     ],
     "language": "python",
     "metadata": {},
     "outputs": [
      {
       "metadata": {},
       "output_type": "display_data",
       "png": "[encoded data removed]",
       "text": [
        "<matplotlib.figure.Figure at 0x109c7a1d0>"
       ]
      }
     ],
     "prompt_number": 22
    },
    {
     "cell_type": "code",
     "collapsed": false,
     "input": [
      "def plot_geo_brownian(t_vec, W_vec, X0, mu, sigma):\n",
      "    params = dict(mu=mu, sigma=sigma)\n",
      "    t_vec, X1 = exact_geo_brownian(t_vec, W_vec, X0, params)\n",
      "    t_vec, X2 = numerical_geo_brownian(t_vec, W_vec, X0, params)\n",
      "    plt.plot(t_vec, X1)\n",
      "    plt.plot(t_vec, X2)"
     ],
     "language": "python",
     "metadata": {},
     "outputs": [],
     "prompt_number": 29
    },
    {
     "cell_type": "code",
     "collapsed": false,
     "input": [
      "interact(plot_geo_brownian, t_vec=fixed(t), W_vec=fixed(W),\n",
      "         X0=fixed(1.0), mu=(0.00,0.5,0.002), sigma=(0.1,0.5,0.002));"
     ],
     "language": "python",
     "metadata": {},
     "outputs": [
      {
       "metadata": {},
       "output_type": "display_data",
       "png": "[encoded data removed]",
       "text": [
        "<matplotlib.figure.Figure at 0x109cd02d0>"
       ]
      }
     ],
     "prompt_number": 30
    },
    {
     "cell_type": "heading",
     "level": 2,
     "metadata": {},
     "source": [
      "Probability and likelihoods"
     ]
    },
    {
     "cell_type": "markdown",
     "metadata": {},
     "source": [
      "The solutions of the geometric Brownian SDE:\n",
      "\n",
      "$$\n",
      "dX = \\mu X dt + \\sigma X dW\n",
      "$$\n",
      "\n",
      "Is:\n",
      "\n",
      "$$\n",
      "X(t) = X(0)e^{\\left(\\left(\\mu - \\sigma^2/2\\right)t +  \\sigma W\\right)}\n",
      "$$\n",
      "\n",
      "The core idea of working with data is to look at *differences* of some sort:\n",
      "\n",
      "$$\n",
      "\\Delta = f(X(t)) - f(X(0))\n",
      "$$\n",
      "\n",
      "The simplest thing is to look at $\\Delta = X(t)-X(0)$, but you don't get to decide, the SDE does. So how do you find the right difference? The key is to solve for $W(t)$! Let's do that:\n",
      "\n",
      "$$\n",
      "\\ln{X(t)} - ln{X(0)} = \\left(\\mu - \\sigma^2/2\\right)t +  \\sigma W\n",
      "$$\n",
      "\n",
      "Or:\n",
      "\n",
      "$$\n",
      "\\sigma W(t) = \\ln{X(t)} - ln{X(0)} - \\left(\\mu - \\sigma^2/2\\right)t\n",
      "$$\n",
      "\n",
      "Now remember that $W(t) = \\sqrt{t} Z(0,1)$:\n",
      "\n",
      "$$\n",
      "\\sqrt{t} \\sigma Z(0,1) =  \\ln{X(t)} - ln{X(0)} - \\left(\\mu - \\sigma^2/2\\right) t\n",
      "$$\n",
      "\n",
      "And note that $\\alpha Z(0,1) = Z(0,\\alpha^2)$ so:\n",
      "\n",
      "$$\n",
      "Z(0,\\alpha^2) = \\ln{X(t)} - ln{X(0)} - \\left(\\mu - \\sigma^2/2\\right) t\n",
      "$$"
     ]
    },
    {
     "cell_type": "markdown",
     "metadata": {},
     "source": [
      "### Interpretation\n",
      "\n",
      "Now let's think about what we mean by the notation $x = Z(0,\\alpha^2)$. We mean that $x$ is a number drawn from the PDF:\n",
      "\n",
      "$$\n",
      "P(x) = \\frac{1}{\\alpha \\sqrt{2\\pi} } e^{-x^2/2\\alpha^2}\n",
      "$$\n",
      "\n",
      "But in our case $x$ is the RHS of that last equation above so our PDF for $\\Delta = \\ln{X(t)} - ln{X(0)}$ is:\n",
      "\n",
      "$$\n",
      "P(\\Delta) = \\frac{1}{\\sigma \\sqrt{2\\pi t} } exp\\left(-\\frac{\\left(\\Delta - \\left(\\mu - \\sigma^2/2\\right)t\\right)^2}{2 t \\sigma^2}\\right)\n",
      "$$\n",
      "\n",
      "Note that this is the distribution over $\\Delta \\sim ln{X(t)}$ not $X(t)$. The great thing is that now we can just use the standard MLE estimates to find the estimates of the mean and variance of this distribution.\n",
      "\n",
      "This gives $Ex(\\Delta) = \\left(\\mu - \\sigma^2/2\\right)t$ and $Var(\\Delta) = t \\sigma^2$. Inverting these we get:\n",
      "\n",
      "$$\n",
      "\\sigma^2 = Var(\\Delta)/t\n",
      "$$\n",
      "\n",
      "and\n",
      "\n",
      "$$\n",
      "\\mu = \\frac{1}{t} Ex(\\Delta)+ \\sigma^2/2\n",
      "$$\n",
      "\n",
      "This allows you to compute the return $\\mu$ and volatility $\\sigma$ from the mean and variance of your log price differences! It would also now be easy to use a Bayesian approach for computing these parameters. Cool! Let's code this up:"
     ]
    },
    {
     "cell_type": "code",
     "collapsed": false,
     "input": [
      "def geo_brownian_params(t_vec, X_vec):\n",
      "    delta = np.diff(np.log(X_vec))\n",
      "    ex = delta.mean()\n",
      "    var = delta.var()\n",
      "    dt = t[1] - t[0]\n",
      "    sigma = np.sqrt(var/dt)\n",
      "    mu = ex/dt + 0.5*sigma**2\n",
      "    return mu,sigma"
     ],
     "language": "python",
     "metadata": {},
     "outputs": [],
     "prompt_number": 25
    },
    {
     "cell_type": "code",
     "collapsed": false,
     "input": [
      "t, W = wiener(100.0, 100)"
     ],
     "language": "python",
     "metadata": {},
     "outputs": [],
     "prompt_number": 26
    },
    {
     "cell_type": "code",
     "collapsed": false,
     "input": [
      "t, X = exact_geo_brownian(t, W, 1.0, dict(mu=0.5, sigma=0.4))"
     ],
     "language": "python",
     "metadata": {},
     "outputs": [],
     "prompt_number": 27
    },
    {
     "cell_type": "code",
     "collapsed": false,
     "input": [
      "geo_brownian_params(t, X)"
     ],
     "language": "python",
     "metadata": {},
     "outputs": [
      {
       "metadata": {},
       "output_type": "pyout",
       "prompt_number": 28,
       "text": [
        "(0.48693018505485419, 0.39989616705230785)"
       ]
      }
     ],
     "prompt_number": 28
    },
    {
     "cell_type": "markdown",
     "metadata": {},
     "source": [
      "Yeah, the parameters basically match. However, for some regimes the value of $\\mu$ isn't as close. This is where a Bayesian approach would give a much better idea of the error here."
     ]
    },
    {
     "cell_type": "markdown",
     "metadata": {},
     "source": [
      "### Euler approach to parameter estimation"
     ]
    },
    {
     "cell_type": "markdown",
     "metadata": {},
     "source": [
      "Here is the basic SDE:\n",
      "\n",
      "$$dS = \\mu S dt + \\sigma S dW $$\n",
      "\n",
      "We can arrange this as follows:\n",
      "\n",
      "$$\\frac{dS}{S} = \\mu dt + \\sigma dW$$\n",
      "\n",
      "The left hand side of this *is* the distribution of returns! To relate this to numerical price data, use $dW=\\sqrt{\\Delta t} Z(0,1)$, $ dt=\\Delta t$ and $dS/S=\\Delta S/S$:\n",
      "\n",
      "$$\\frac{\\Delta S}{S} = \\mu \\Delta t + \\sigma \\sqrt{\\Delta t} Z(0,1)$$\n",
      "\n",
      "Then compute the $E[]$ and $Var[]$ of this:\n",
      "\n",
      "$$E\\left[\\frac{\\Delta S}{S}\\right] = \\mu \\Delta t$$\n",
      "\n",
      "$$Var\\left[\\frac{\\Delta S}{S}\\right] = \\mu \\Delta t + \\sigma^2 \\Delta t$$"
     ]
    }
   ],
   "metadata": {}
  }
 ]
}