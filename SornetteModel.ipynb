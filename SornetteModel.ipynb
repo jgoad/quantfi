{
 "metadata": {
  "name": "",
  "signature": "sha256:7164ac99452778417ac30759ed2cba650cf1e3c2d47d1fcc73b006ab09467cec"
 },
 "nbformat": 3,
 "nbformat_minor": 0,
 "worksheets": [
  {
   "cells": [
    {
     "cell_type": "markdown",
     "metadata": {},
     "source": [
      "#Contents\n",
      "+ ###[`Model Of Speculative Financial Bubbles`](#modelS)<a href='#modelS'></a>\n",
      "    + Replicates a model presented by Didier Sornette anticipating crises in the financial markets.\n",
      "      + [**Analysis Summary:**](#modelS_ana)<a href='#modelS_ana'></a>\n",
      "       + [section 1](#modelS_sec1)<a href='#modelS_sec1'></a>"
     ]
    },
    {
     "cell_type": "markdown",
     "metadata": {},
     "source": [
      "<a id=modelS></a>\n",
      "---\n",
      "#Model Of Speculative Financial Bubbles\n",
      "Didier Sornette and his Financial Crisis Observatory have plotted a set of early warning signs for unstable, growing systems, tracking the moment when instability will cause unexpected crashes. His work was outlined in a presentation describing his work in a [2013 TED talk](http://www.ted.com/talks/didier_sornette_how_we_can_predict_the_next_financial_crisis#t-637034). More specifically though, the work presented here references a [2008 paper on speculative bubbles](http://arxiv.org/pdf/cond-mat/0104341v2.pdf) which he published."
     ]
    },
    {
     "cell_type": "code",
     "collapsed": false,
     "input": [],
     "language": "python",
     "metadata": {},
     "outputs": []
    }
   ],
   "metadata": {}
  }
 ]
}